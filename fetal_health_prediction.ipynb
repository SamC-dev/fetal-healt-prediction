{
 "cells": [
  {
   "cell_type": "markdown",
   "id": "5573556c-800e-43a5-b172-9908ed9f8963",
   "metadata": {},
   "source": [
    "## FETAL HEALTH ANALYSIS AND PREDICTION"
   ]
  },
  {
   "cell_type": "markdown",
   "id": "33160fa7-b53c-4c96-8026-217d8d175c68",
   "metadata": {},
   "source": [
    "### 1 INTRODUCTION"
   ]
  },
  {
   "cell_type": "markdown",
   "id": "cb141df8-be6e-423f-b767-da9a8276f8e9",
   "metadata": {},
   "source": [
    "The purpose of this analysis is to predict the fetuses condition (low-risk, medium-risk, high-risk or normal, suspect, pathological) training and testing three classification algorithms:\n",
    "- Logistic regression\n",
    "- Random forest classifier\n",
    "- K-nearest neighbors  \n",
    "\n",
    "Each model will be evaluated to find the best one.  \n",
    "The dataset is available [here](https://www.kaggle.com/datasets/andrewmvd/fetal-health-classification)  "
   ]
  },
  {
   "cell_type": "markdown",
   "id": "3049a894-31d5-4021-9b03-83d708b449af",
   "metadata": {},
   "source": [
    "### 2 PREPARATION  "
   ]
  },
  {
   "cell_type": "markdown",
   "id": "d4609416-2849-4842-ad6f-563f1cdf83b3",
   "metadata": {},
   "source": [
    "let's start importing the libraries:  "
   ]
  },
  {
   "cell_type": "code",
   "execution_count": 1,
   "id": "d9714aa7-5a40-48ee-8558-e8004e58b79a",
   "metadata": {},
   "outputs": [],
   "source": [
    "## useful libraries\n",
    "\n",
    "import warnings\n",
    "\n",
    "## data manipulation\n",
    "\n",
    "import pandas as pd\n",
    "import numpy as np\n",
    "\n",
    "##data visualization\n",
    "\n",
    "import seaborn as sns\n",
    "import matplotlib.pyplot as plt\n",
    "import plotly.express as px\n",
    "\n",
    "## machine learning\n",
    "\n",
    "from sklearn.preprocessing import StandardScaler\n",
    "from sklearn.model_selection import train_test_split , cross_val_score , StratifiedKFold , GridSearchCV\n",
    "from sklearn.ensemble import IsolationForest\n",
    "from sklearn.neighbors import LocalOutlierFactor\n",
    "from sklearn.linear_model import LogisticRegression , LinearRegression\n",
    "from sklearn.feature_selection import SelectKBest , mutual_info_classif , f_classif\n",
    "from sklearn.metrics import f1_score , confusion_matrix , ConfusionMatrixDisplay\n",
    "from sklearn.ensemble import RandomForestClassifier\n",
    "from sklearn.neighbors import KNeighborsClassifier"
   ]
  },
  {
   "cell_type": "code",
   "execution_count": 2,
   "id": "8c6e3580-93c7-4fef-affb-caa5e908f229",
   "metadata": {},
   "outputs": [
    {
     "data": {
      "text/plain": [
       "(2126, 22)"
      ]
     },
     "execution_count": 2,
     "metadata": {},
     "output_type": "execute_result"
    }
   ],
   "source": [
    "fetal_health = pd.read_csv(\"fetal_health.csv\")\n",
    "fetal_health.shape"
   ]
  },
  {
   "cell_type": "markdown",
   "id": "2d674370-1ddb-4a52-994a-d81c55807c42",
   "metadata": {},
   "source": [
    "<br>The dataset contains 2126 rows and 22 columns, below the first 5 rows:<br><br>"
   ]
  },
  {
   "cell_type": "code",
   "execution_count": 3,
   "id": "1f1525c5-4c07-4c4c-b714-4acec099ea77",
   "metadata": {},
   "outputs": [
    {
     "data": {
      "text/html": [
       "<div>\n",
       "<style scoped>\n",
       "    .dataframe tbody tr th:only-of-type {\n",
       "        vertical-align: middle;\n",
       "    }\n",
       "\n",
       "    .dataframe tbody tr th {\n",
       "        vertical-align: top;\n",
       "    }\n",
       "\n",
       "    .dataframe thead th {\n",
       "        text-align: right;\n",
       "    }\n",
       "</style>\n",
       "<table border=\"1\" class=\"dataframe\">\n",
       "  <thead>\n",
       "    <tr style=\"text-align: right;\">\n",
       "      <th></th>\n",
       "      <th>baseline value</th>\n",
       "      <th>accelerations</th>\n",
       "      <th>fetal_movement</th>\n",
       "      <th>uterine_contractions</th>\n",
       "      <th>light_decelerations</th>\n",
       "      <th>severe_decelerations</th>\n",
       "      <th>prolongued_decelerations</th>\n",
       "      <th>abnormal_short_term_variability</th>\n",
       "      <th>mean_value_of_short_term_variability</th>\n",
       "      <th>percentage_of_time_with_abnormal_long_term_variability</th>\n",
       "      <th>...</th>\n",
       "      <th>histogram_min</th>\n",
       "      <th>histogram_max</th>\n",
       "      <th>histogram_number_of_peaks</th>\n",
       "      <th>histogram_number_of_zeroes</th>\n",
       "      <th>histogram_mode</th>\n",
       "      <th>histogram_mean</th>\n",
       "      <th>histogram_median</th>\n",
       "      <th>histogram_variance</th>\n",
       "      <th>histogram_tendency</th>\n",
       "      <th>fetal_health</th>\n",
       "    </tr>\n",
       "  </thead>\n",
       "  <tbody>\n",
       "    <tr>\n",
       "      <th>0</th>\n",
       "      <td>120.0</td>\n",
       "      <td>0.000</td>\n",
       "      <td>0.0</td>\n",
       "      <td>0.000</td>\n",
       "      <td>0.000</td>\n",
       "      <td>0.0</td>\n",
       "      <td>0.0</td>\n",
       "      <td>73.0</td>\n",
       "      <td>0.5</td>\n",
       "      <td>43.0</td>\n",
       "      <td>...</td>\n",
       "      <td>62.0</td>\n",
       "      <td>126.0</td>\n",
       "      <td>2.0</td>\n",
       "      <td>0.0</td>\n",
       "      <td>120.0</td>\n",
       "      <td>137.0</td>\n",
       "      <td>121.0</td>\n",
       "      <td>73.0</td>\n",
       "      <td>1.0</td>\n",
       "      <td>2.0</td>\n",
       "    </tr>\n",
       "    <tr>\n",
       "      <th>1</th>\n",
       "      <td>132.0</td>\n",
       "      <td>0.006</td>\n",
       "      <td>0.0</td>\n",
       "      <td>0.006</td>\n",
       "      <td>0.003</td>\n",
       "      <td>0.0</td>\n",
       "      <td>0.0</td>\n",
       "      <td>17.0</td>\n",
       "      <td>2.1</td>\n",
       "      <td>0.0</td>\n",
       "      <td>...</td>\n",
       "      <td>68.0</td>\n",
       "      <td>198.0</td>\n",
       "      <td>6.0</td>\n",
       "      <td>1.0</td>\n",
       "      <td>141.0</td>\n",
       "      <td>136.0</td>\n",
       "      <td>140.0</td>\n",
       "      <td>12.0</td>\n",
       "      <td>0.0</td>\n",
       "      <td>1.0</td>\n",
       "    </tr>\n",
       "    <tr>\n",
       "      <th>2</th>\n",
       "      <td>133.0</td>\n",
       "      <td>0.003</td>\n",
       "      <td>0.0</td>\n",
       "      <td>0.008</td>\n",
       "      <td>0.003</td>\n",
       "      <td>0.0</td>\n",
       "      <td>0.0</td>\n",
       "      <td>16.0</td>\n",
       "      <td>2.1</td>\n",
       "      <td>0.0</td>\n",
       "      <td>...</td>\n",
       "      <td>68.0</td>\n",
       "      <td>198.0</td>\n",
       "      <td>5.0</td>\n",
       "      <td>1.0</td>\n",
       "      <td>141.0</td>\n",
       "      <td>135.0</td>\n",
       "      <td>138.0</td>\n",
       "      <td>13.0</td>\n",
       "      <td>0.0</td>\n",
       "      <td>1.0</td>\n",
       "    </tr>\n",
       "    <tr>\n",
       "      <th>3</th>\n",
       "      <td>134.0</td>\n",
       "      <td>0.003</td>\n",
       "      <td>0.0</td>\n",
       "      <td>0.008</td>\n",
       "      <td>0.003</td>\n",
       "      <td>0.0</td>\n",
       "      <td>0.0</td>\n",
       "      <td>16.0</td>\n",
       "      <td>2.4</td>\n",
       "      <td>0.0</td>\n",
       "      <td>...</td>\n",
       "      <td>53.0</td>\n",
       "      <td>170.0</td>\n",
       "      <td>11.0</td>\n",
       "      <td>0.0</td>\n",
       "      <td>137.0</td>\n",
       "      <td>134.0</td>\n",
       "      <td>137.0</td>\n",
       "      <td>13.0</td>\n",
       "      <td>1.0</td>\n",
       "      <td>1.0</td>\n",
       "    </tr>\n",
       "    <tr>\n",
       "      <th>4</th>\n",
       "      <td>132.0</td>\n",
       "      <td>0.007</td>\n",
       "      <td>0.0</td>\n",
       "      <td>0.008</td>\n",
       "      <td>0.000</td>\n",
       "      <td>0.0</td>\n",
       "      <td>0.0</td>\n",
       "      <td>16.0</td>\n",
       "      <td>2.4</td>\n",
       "      <td>0.0</td>\n",
       "      <td>...</td>\n",
       "      <td>53.0</td>\n",
       "      <td>170.0</td>\n",
       "      <td>9.0</td>\n",
       "      <td>0.0</td>\n",
       "      <td>137.0</td>\n",
       "      <td>136.0</td>\n",
       "      <td>138.0</td>\n",
       "      <td>11.0</td>\n",
       "      <td>1.0</td>\n",
       "      <td>1.0</td>\n",
       "    </tr>\n",
       "  </tbody>\n",
       "</table>\n",
       "<p>5 rows × 22 columns</p>\n",
       "</div>"
      ],
      "text/plain": [
       "   baseline value  accelerations  fetal_movement  uterine_contractions  \\\n",
       "0           120.0          0.000             0.0                 0.000   \n",
       "1           132.0          0.006             0.0                 0.006   \n",
       "2           133.0          0.003             0.0                 0.008   \n",
       "3           134.0          0.003             0.0                 0.008   \n",
       "4           132.0          0.007             0.0                 0.008   \n",
       "\n",
       "   light_decelerations  severe_decelerations  prolongued_decelerations  \\\n",
       "0                0.000                   0.0                       0.0   \n",
       "1                0.003                   0.0                       0.0   \n",
       "2                0.003                   0.0                       0.0   \n",
       "3                0.003                   0.0                       0.0   \n",
       "4                0.000                   0.0                       0.0   \n",
       "\n",
       "   abnormal_short_term_variability  mean_value_of_short_term_variability  \\\n",
       "0                             73.0                                   0.5   \n",
       "1                             17.0                                   2.1   \n",
       "2                             16.0                                   2.1   \n",
       "3                             16.0                                   2.4   \n",
       "4                             16.0                                   2.4   \n",
       "\n",
       "   percentage_of_time_with_abnormal_long_term_variability  ...  histogram_min  \\\n",
       "0                                               43.0       ...           62.0   \n",
       "1                                                0.0       ...           68.0   \n",
       "2                                                0.0       ...           68.0   \n",
       "3                                                0.0       ...           53.0   \n",
       "4                                                0.0       ...           53.0   \n",
       "\n",
       "   histogram_max  histogram_number_of_peaks  histogram_number_of_zeroes  \\\n",
       "0          126.0                        2.0                         0.0   \n",
       "1          198.0                        6.0                         1.0   \n",
       "2          198.0                        5.0                         1.0   \n",
       "3          170.0                       11.0                         0.0   \n",
       "4          170.0                        9.0                         0.0   \n",
       "\n",
       "   histogram_mode  histogram_mean  histogram_median  histogram_variance  \\\n",
       "0           120.0           137.0             121.0                73.0   \n",
       "1           141.0           136.0             140.0                12.0   \n",
       "2           141.0           135.0             138.0                13.0   \n",
       "3           137.0           134.0             137.0                13.0   \n",
       "4           137.0           136.0             138.0                11.0   \n",
       "\n",
       "   histogram_tendency  fetal_health  \n",
       "0                 1.0           2.0  \n",
       "1                 0.0           1.0  \n",
       "2                 0.0           1.0  \n",
       "3                 1.0           1.0  \n",
       "4                 1.0           1.0  \n",
       "\n",
       "[5 rows x 22 columns]"
      ]
     },
     "execution_count": 3,
     "metadata": {},
     "output_type": "execute_result"
    }
   ],
   "source": [
    "fetal_health.head()"
   ]
  },
  {
   "cell_type": "code",
   "execution_count": 4,
   "id": "1b1daea2-dcca-4c4f-8ea6-f204124f19d8",
   "metadata": {},
   "outputs": [
    {
     "name": "stdout",
     "output_type": "stream",
     "text": [
      "<class 'pandas.core.frame.DataFrame'>\n",
      "RangeIndex: 2126 entries, 0 to 2125\n",
      "Data columns (total 22 columns):\n",
      " #   Column                                                  Non-Null Count  Dtype  \n",
      "---  ------                                                  --------------  -----  \n",
      " 0   baseline value                                          2126 non-null   float64\n",
      " 1   accelerations                                           2126 non-null   float64\n",
      " 2   fetal_movement                                          2126 non-null   float64\n",
      " 3   uterine_contractions                                    2126 non-null   float64\n",
      " 4   light_decelerations                                     2126 non-null   float64\n",
      " 5   severe_decelerations                                    2126 non-null   float64\n",
      " 6   prolongued_decelerations                                2126 non-null   float64\n",
      " 7   abnormal_short_term_variability                         2126 non-null   float64\n",
      " 8   mean_value_of_short_term_variability                    2126 non-null   float64\n",
      " 9   percentage_of_time_with_abnormal_long_term_variability  2126 non-null   float64\n",
      " 10  mean_value_of_long_term_variability                     2126 non-null   float64\n",
      " 11  histogram_width                                         2126 non-null   float64\n",
      " 12  histogram_min                                           2126 non-null   float64\n",
      " 13  histogram_max                                           2126 non-null   float64\n",
      " 14  histogram_number_of_peaks                               2126 non-null   float64\n",
      " 15  histogram_number_of_zeroes                              2126 non-null   float64\n",
      " 16  histogram_mode                                          2126 non-null   float64\n",
      " 17  histogram_mean                                          2126 non-null   float64\n",
      " 18  histogram_median                                        2126 non-null   float64\n",
      " 19  histogram_variance                                      2126 non-null   float64\n",
      " 20  histogram_tendency                                      2126 non-null   float64\n",
      " 21  fetal_health                                            2126 non-null   float64\n",
      "dtypes: float64(22)\n",
      "memory usage: 365.5 KB\n"
     ]
    }
   ],
   "source": [
    "fetal_health.info()"
   ]
  },
  {
   "cell_type": "code",
   "execution_count": 5,
   "id": "d96c6e9b-a1eb-44af-a43e-86cdd6c79194",
   "metadata": {},
   "outputs": [
    {
     "data": {
      "text/html": [
       "<div>\n",
       "<style scoped>\n",
       "    .dataframe tbody tr th:only-of-type {\n",
       "        vertical-align: middle;\n",
       "    }\n",
       "\n",
       "    .dataframe tbody tr th {\n",
       "        vertical-align: top;\n",
       "    }\n",
       "\n",
       "    .dataframe thead th {\n",
       "        text-align: right;\n",
       "    }\n",
       "</style>\n",
       "<table border=\"1\" class=\"dataframe\">\n",
       "  <thead>\n",
       "    <tr style=\"text-align: right;\">\n",
       "      <th></th>\n",
       "      <th>baseline value</th>\n",
       "      <th>accelerations</th>\n",
       "      <th>fetal_movement</th>\n",
       "      <th>uterine_contractions</th>\n",
       "      <th>light_decelerations</th>\n",
       "      <th>severe_decelerations</th>\n",
       "      <th>prolongued_decelerations</th>\n",
       "      <th>abnormal_short_term_variability</th>\n",
       "      <th>mean_value_of_short_term_variability</th>\n",
       "      <th>percentage_of_time_with_abnormal_long_term_variability</th>\n",
       "      <th>...</th>\n",
       "      <th>histogram_min</th>\n",
       "      <th>histogram_max</th>\n",
       "      <th>histogram_number_of_peaks</th>\n",
       "      <th>histogram_number_of_zeroes</th>\n",
       "      <th>histogram_mode</th>\n",
       "      <th>histogram_mean</th>\n",
       "      <th>histogram_median</th>\n",
       "      <th>histogram_variance</th>\n",
       "      <th>histogram_tendency</th>\n",
       "      <th>fetal_health</th>\n",
       "    </tr>\n",
       "  </thead>\n",
       "  <tbody>\n",
       "    <tr>\n",
       "      <th>count</th>\n",
       "      <td>2126.000000</td>\n",
       "      <td>2126.000000</td>\n",
       "      <td>2126.000000</td>\n",
       "      <td>2126.000000</td>\n",
       "      <td>2126.000000</td>\n",
       "      <td>2126.000000</td>\n",
       "      <td>2126.000000</td>\n",
       "      <td>2126.000000</td>\n",
       "      <td>2126.000000</td>\n",
       "      <td>2126.00000</td>\n",
       "      <td>...</td>\n",
       "      <td>2126.000000</td>\n",
       "      <td>2126.000000</td>\n",
       "      <td>2126.000000</td>\n",
       "      <td>2126.000000</td>\n",
       "      <td>2126.000000</td>\n",
       "      <td>2126.000000</td>\n",
       "      <td>2126.000000</td>\n",
       "      <td>2126.000000</td>\n",
       "      <td>2126.000000</td>\n",
       "      <td>2126.000000</td>\n",
       "    </tr>\n",
       "    <tr>\n",
       "      <th>mean</th>\n",
       "      <td>133.303857</td>\n",
       "      <td>0.003178</td>\n",
       "      <td>0.009481</td>\n",
       "      <td>0.004366</td>\n",
       "      <td>0.001889</td>\n",
       "      <td>0.000003</td>\n",
       "      <td>0.000159</td>\n",
       "      <td>46.990122</td>\n",
       "      <td>1.332785</td>\n",
       "      <td>9.84666</td>\n",
       "      <td>...</td>\n",
       "      <td>93.579492</td>\n",
       "      <td>164.025400</td>\n",
       "      <td>4.068203</td>\n",
       "      <td>0.323612</td>\n",
       "      <td>137.452023</td>\n",
       "      <td>134.610536</td>\n",
       "      <td>138.090310</td>\n",
       "      <td>18.808090</td>\n",
       "      <td>0.320320</td>\n",
       "      <td>1.304327</td>\n",
       "    </tr>\n",
       "    <tr>\n",
       "      <th>std</th>\n",
       "      <td>9.840844</td>\n",
       "      <td>0.003866</td>\n",
       "      <td>0.046666</td>\n",
       "      <td>0.002946</td>\n",
       "      <td>0.002960</td>\n",
       "      <td>0.000057</td>\n",
       "      <td>0.000590</td>\n",
       "      <td>17.192814</td>\n",
       "      <td>0.883241</td>\n",
       "      <td>18.39688</td>\n",
       "      <td>...</td>\n",
       "      <td>29.560212</td>\n",
       "      <td>17.944183</td>\n",
       "      <td>2.949386</td>\n",
       "      <td>0.706059</td>\n",
       "      <td>16.381289</td>\n",
       "      <td>15.593596</td>\n",
       "      <td>14.466589</td>\n",
       "      <td>28.977636</td>\n",
       "      <td>0.610829</td>\n",
       "      <td>0.614377</td>\n",
       "    </tr>\n",
       "    <tr>\n",
       "      <th>min</th>\n",
       "      <td>106.000000</td>\n",
       "      <td>0.000000</td>\n",
       "      <td>0.000000</td>\n",
       "      <td>0.000000</td>\n",
       "      <td>0.000000</td>\n",
       "      <td>0.000000</td>\n",
       "      <td>0.000000</td>\n",
       "      <td>12.000000</td>\n",
       "      <td>0.200000</td>\n",
       "      <td>0.00000</td>\n",
       "      <td>...</td>\n",
       "      <td>50.000000</td>\n",
       "      <td>122.000000</td>\n",
       "      <td>0.000000</td>\n",
       "      <td>0.000000</td>\n",
       "      <td>60.000000</td>\n",
       "      <td>73.000000</td>\n",
       "      <td>77.000000</td>\n",
       "      <td>0.000000</td>\n",
       "      <td>-1.000000</td>\n",
       "      <td>1.000000</td>\n",
       "    </tr>\n",
       "    <tr>\n",
       "      <th>25%</th>\n",
       "      <td>126.000000</td>\n",
       "      <td>0.000000</td>\n",
       "      <td>0.000000</td>\n",
       "      <td>0.002000</td>\n",
       "      <td>0.000000</td>\n",
       "      <td>0.000000</td>\n",
       "      <td>0.000000</td>\n",
       "      <td>32.000000</td>\n",
       "      <td>0.700000</td>\n",
       "      <td>0.00000</td>\n",
       "      <td>...</td>\n",
       "      <td>67.000000</td>\n",
       "      <td>152.000000</td>\n",
       "      <td>2.000000</td>\n",
       "      <td>0.000000</td>\n",
       "      <td>129.000000</td>\n",
       "      <td>125.000000</td>\n",
       "      <td>129.000000</td>\n",
       "      <td>2.000000</td>\n",
       "      <td>0.000000</td>\n",
       "      <td>1.000000</td>\n",
       "    </tr>\n",
       "    <tr>\n",
       "      <th>50%</th>\n",
       "      <td>133.000000</td>\n",
       "      <td>0.002000</td>\n",
       "      <td>0.000000</td>\n",
       "      <td>0.004000</td>\n",
       "      <td>0.000000</td>\n",
       "      <td>0.000000</td>\n",
       "      <td>0.000000</td>\n",
       "      <td>49.000000</td>\n",
       "      <td>1.200000</td>\n",
       "      <td>0.00000</td>\n",
       "      <td>...</td>\n",
       "      <td>93.000000</td>\n",
       "      <td>162.000000</td>\n",
       "      <td>3.000000</td>\n",
       "      <td>0.000000</td>\n",
       "      <td>139.000000</td>\n",
       "      <td>136.000000</td>\n",
       "      <td>139.000000</td>\n",
       "      <td>7.000000</td>\n",
       "      <td>0.000000</td>\n",
       "      <td>1.000000</td>\n",
       "    </tr>\n",
       "    <tr>\n",
       "      <th>75%</th>\n",
       "      <td>140.000000</td>\n",
       "      <td>0.006000</td>\n",
       "      <td>0.003000</td>\n",
       "      <td>0.007000</td>\n",
       "      <td>0.003000</td>\n",
       "      <td>0.000000</td>\n",
       "      <td>0.000000</td>\n",
       "      <td>61.000000</td>\n",
       "      <td>1.700000</td>\n",
       "      <td>11.00000</td>\n",
       "      <td>...</td>\n",
       "      <td>120.000000</td>\n",
       "      <td>174.000000</td>\n",
       "      <td>6.000000</td>\n",
       "      <td>0.000000</td>\n",
       "      <td>148.000000</td>\n",
       "      <td>145.000000</td>\n",
       "      <td>148.000000</td>\n",
       "      <td>24.000000</td>\n",
       "      <td>1.000000</td>\n",
       "      <td>1.000000</td>\n",
       "    </tr>\n",
       "    <tr>\n",
       "      <th>max</th>\n",
       "      <td>160.000000</td>\n",
       "      <td>0.019000</td>\n",
       "      <td>0.481000</td>\n",
       "      <td>0.015000</td>\n",
       "      <td>0.015000</td>\n",
       "      <td>0.001000</td>\n",
       "      <td>0.005000</td>\n",
       "      <td>87.000000</td>\n",
       "      <td>7.000000</td>\n",
       "      <td>91.00000</td>\n",
       "      <td>...</td>\n",
       "      <td>159.000000</td>\n",
       "      <td>238.000000</td>\n",
       "      <td>18.000000</td>\n",
       "      <td>10.000000</td>\n",
       "      <td>187.000000</td>\n",
       "      <td>182.000000</td>\n",
       "      <td>186.000000</td>\n",
       "      <td>269.000000</td>\n",
       "      <td>1.000000</td>\n",
       "      <td>3.000000</td>\n",
       "    </tr>\n",
       "  </tbody>\n",
       "</table>\n",
       "<p>8 rows × 22 columns</p>\n",
       "</div>"
      ],
      "text/plain": [
       "       baseline value  accelerations  fetal_movement  uterine_contractions  \\\n",
       "count     2126.000000    2126.000000     2126.000000           2126.000000   \n",
       "mean       133.303857       0.003178        0.009481              0.004366   \n",
       "std          9.840844       0.003866        0.046666              0.002946   \n",
       "min        106.000000       0.000000        0.000000              0.000000   \n",
       "25%        126.000000       0.000000        0.000000              0.002000   \n",
       "50%        133.000000       0.002000        0.000000              0.004000   \n",
       "75%        140.000000       0.006000        0.003000              0.007000   \n",
       "max        160.000000       0.019000        0.481000              0.015000   \n",
       "\n",
       "       light_decelerations  severe_decelerations  prolongued_decelerations  \\\n",
       "count          2126.000000           2126.000000               2126.000000   \n",
       "mean              0.001889              0.000003                  0.000159   \n",
       "std               0.002960              0.000057                  0.000590   \n",
       "min               0.000000              0.000000                  0.000000   \n",
       "25%               0.000000              0.000000                  0.000000   \n",
       "50%               0.000000              0.000000                  0.000000   \n",
       "75%               0.003000              0.000000                  0.000000   \n",
       "max               0.015000              0.001000                  0.005000   \n",
       "\n",
       "       abnormal_short_term_variability  mean_value_of_short_term_variability  \\\n",
       "count                      2126.000000                           2126.000000   \n",
       "mean                         46.990122                              1.332785   \n",
       "std                          17.192814                              0.883241   \n",
       "min                          12.000000                              0.200000   \n",
       "25%                          32.000000                              0.700000   \n",
       "50%                          49.000000                              1.200000   \n",
       "75%                          61.000000                              1.700000   \n",
       "max                          87.000000                              7.000000   \n",
       "\n",
       "       percentage_of_time_with_abnormal_long_term_variability  ...  \\\n",
       "count                                         2126.00000       ...   \n",
       "mean                                             9.84666       ...   \n",
       "std                                             18.39688       ...   \n",
       "min                                              0.00000       ...   \n",
       "25%                                              0.00000       ...   \n",
       "50%                                              0.00000       ...   \n",
       "75%                                             11.00000       ...   \n",
       "max                                             91.00000       ...   \n",
       "\n",
       "       histogram_min  histogram_max  histogram_number_of_peaks  \\\n",
       "count    2126.000000    2126.000000                2126.000000   \n",
       "mean       93.579492     164.025400                   4.068203   \n",
       "std        29.560212      17.944183                   2.949386   \n",
       "min        50.000000     122.000000                   0.000000   \n",
       "25%        67.000000     152.000000                   2.000000   \n",
       "50%        93.000000     162.000000                   3.000000   \n",
       "75%       120.000000     174.000000                   6.000000   \n",
       "max       159.000000     238.000000                  18.000000   \n",
       "\n",
       "       histogram_number_of_zeroes  histogram_mode  histogram_mean  \\\n",
       "count                 2126.000000     2126.000000     2126.000000   \n",
       "mean                     0.323612      137.452023      134.610536   \n",
       "std                      0.706059       16.381289       15.593596   \n",
       "min                      0.000000       60.000000       73.000000   \n",
       "25%                      0.000000      129.000000      125.000000   \n",
       "50%                      0.000000      139.000000      136.000000   \n",
       "75%                      0.000000      148.000000      145.000000   \n",
       "max                     10.000000      187.000000      182.000000   \n",
       "\n",
       "       histogram_median  histogram_variance  histogram_tendency  fetal_health  \n",
       "count       2126.000000         2126.000000         2126.000000   2126.000000  \n",
       "mean         138.090310           18.808090            0.320320      1.304327  \n",
       "std           14.466589           28.977636            0.610829      0.614377  \n",
       "min           77.000000            0.000000           -1.000000      1.000000  \n",
       "25%          129.000000            2.000000            0.000000      1.000000  \n",
       "50%          139.000000            7.000000            0.000000      1.000000  \n",
       "75%          148.000000           24.000000            1.000000      1.000000  \n",
       "max          186.000000          269.000000            1.000000      3.000000  \n",
       "\n",
       "[8 rows x 22 columns]"
      ]
     },
     "execution_count": 5,
     "metadata": {},
     "output_type": "execute_result"
    }
   ],
   "source": [
    "fetal_health.describe()"
   ]
  },
  {
   "cell_type": "markdown",
   "id": "a478137d-4a38-425b-a2ac-057bebdc3ebc",
   "metadata": {},
   "source": [
    "<br>All the variables seem to be continuous, exception made for the target ,\"fetal health\", that must be predicted.\n",
    "the target assumes the following values:\n",
    "- 1.0 : Low risk\n",
    "- 2.0 : Medium risk\n",
    "- 3.0: High risk\n",
    "\n",
    "Let's see its distribution:\n",
    "<br><br>"
   ]
  },
  {
   "cell_type": "code",
   "execution_count": 6,
   "id": "77bef4d6-1567-4db6-b888-5ab1a6755c45",
   "metadata": {},
   "outputs": [
    {
     "name": "stdout",
     "output_type": "stream",
     "text": [
      "high risk class percentage: 0.082785\n"
     ]
    },
    {
     "data": {
      "image/png": "[encoded data removed]",
      "text/plain": [
       "<Figure size 1080x432 with 1 Axes>"
      ]
     },
     "metadata": {
      "needs_background": "light"
     },
     "output_type": "display_data"
    }
   ],
   "source": [
    "plt.figure(figsize = (15 , 6))\n",
    "sns.histplot(data = fetal_health ,x = \"fetal_health\" , hue = \"fetal_health\" , stat = \"probability\" ,\n",
    "             palette = [\"green\" , \"orange\" , \"red\"]).set(title = \"Fetal health distribution\")\n",
    "\n",
    "## percentage of high risk class\n",
    "\n",
    "def percentage(df):\n",
    "    \n",
    "    high_risk_count = df.loc[df[\"fetal_health\"] == 3 , \"fetal_health\"].count()\n",
    "    total_count = df.fetal_health.count()\n",
    "    print(\"high risk class percentage: %f\" % (high_risk_count / total_count))\n",
    "    \n",
    "percentage(fetal_health)"
   ]
  },
  {
   "cell_type": "markdown",
   "id": "6f613426-2167-4db7-8be5-1e5d2ba91ccc",
   "metadata": {},
   "source": [
    "Around 78% of fetuses belong to the low-risk class, 14% to the medium and 8 % the high one, the target is clearly unbalanced, this could be a problem: the purpose of the model should mostly be to predict when the fetus is in the high-risk class, being this the minor class we need to focus not on the accuracy of the model, but on its precision.\n",
    "There are techniques to make the classes more balanced, for example:\n",
    "- creating synthetic samples of the smaller class: **oversampling**\n",
    "- reducing the number of samples of the dominant class: **undersampling**\n",
    "- assigning a weight to each class proportionally: **class weight**  \n",
    "\n",
    "In this analysis the dataset will not be balanced, it will only be used a metric that can efficiently inform about the real classification precision for each class."
   ]
  },
  {
   "cell_type": "markdown",
   "id": "8405a2f4-bd46-493b-956f-ae5603e2f64d",
   "metadata": {},
   "source": [
    "let's divide the dataset into the training and test parts:\n",
    "<br><br>"
   ]
  },
  {
   "cell_type": "code",
   "execution_count": 7,
   "id": "0fa88e86-a80c-4372-998e-35a32940128a",
   "metadata": {},
   "outputs": [
    {
     "name": "stdout",
     "output_type": "stream",
     "text": [
      "(1424, 21)\n",
      "(702, 21)\n"
     ]
    }
   ],
   "source": [
    "## features\n",
    "\n",
    "X = fetal_health.drop(columns = [\"fetal_health\"])\n",
    "\n",
    "## target\n",
    "\n",
    "y = fetal_health[\"fetal_health\"]\n",
    "\n",
    "## random split with test size equal to 33% of the dataset\n",
    "\n",
    "X_train, X_test, y_train, y_test = train_test_split(X, y, test_size = 0.33, random_state = 42)\n",
    "print(X_train.shape)\n",
    "print(X_test.shape)"
   ]
  },
  {
   "cell_type": "markdown",
   "id": "5e494be3-9639-4379-b27a-a9c4292613bb",
   "metadata": {},
   "source": [
    "### 2.1 MISSING VALUES"
   ]
  },
  {
   "cell_type": "markdown",
   "id": "c0528b2e-d0a3-4126-a050-9a9103f64338",
   "metadata": {},
   "source": [
    "\n",
    "If there were missing values, there would be three ways to deal with the problem:\n",
    "\n",
    "1. delete rows with missing values.\n",
    "2. use some tricks to fill the empty cells, using the mean or the median of the variable.</li>\n",
    "3. Find the missing values in external sources.\n",
    "\n",
    "it is better to specify that the second way refers to the mean or the median of the training set, to avoid data leakage, in fact if it is considered the whole dataset, then the model will be trained with values obtained from outside the training set, this will cause a worst performance. \n",
    "The concept of data leakage is valid also for outliers detection and features standardization.\n",
    "<br><br>"
   ]
  },
  {
   "cell_type": "code",
   "execution_count": 8,
   "id": "ea19c21b-d25c-460a-a28a-955b275c541e",
   "metadata": {},
   "outputs": [
    {
     "data": {
      "text/plain": [
       "baseline value                                            0\n",
       "accelerations                                             0\n",
       "fetal_movement                                            0\n",
       "uterine_contractions                                      0\n",
       "light_decelerations                                       0\n",
       "severe_decelerations                                      0\n",
       "prolongued_decelerations                                  0\n",
       "abnormal_short_term_variability                           0\n",
       "mean_value_of_short_term_variability                      0\n",
       "percentage_of_time_with_abnormal_long_term_variability    0\n",
       "mean_value_of_long_term_variability                       0\n",
       "histogram_width                                           0\n",
       "histogram_min                                             0\n",
       "histogram_max                                             0\n",
       "histogram_number_of_peaks                                 0\n",
       "histogram_number_of_zeroes                                0\n",
       "histogram_mode                                            0\n",
       "histogram_mean                                            0\n",
       "histogram_median                                          0\n",
       "histogram_variance                                        0\n",
       "histogram_tendency                                        0\n",
       "fetal_health                                              0\n",
       "dtype: int64"
      ]
     },
     "execution_count": 8,
     "metadata": {},
     "output_type": "execute_result"
    }
   ],
   "source": [
    "fetal_health.isnull().sum()"
   ]
  },
  {
   "cell_type": "markdown",
   "id": "454ddc26-5e62-4694-bba5-a7bc23f82683",
   "metadata": {},
   "source": [
    "<br>\n",
    "There are no missing values. \n",
    "<br><br>"
   ]
  },
  {
   "cell_type": "markdown",
   "id": "db214919-8774-4d80-a52c-6580a7c2f462",
   "metadata": {},
   "source": [
    "### 2.2 OUTLIERS DETECTION"
   ]
  },
  {
   "cell_type": "markdown",
   "id": "4bad6f57-eced-46f1-8c32-d3e1e21ba9c6",
   "metadata": {},
   "source": [
    "For a better performance it is convenient to analyze the single features to find and eventually delete the outliers, these are weird values that behave differently from the others, they are often located far from the interquartile range.<br>\n",
    "To detect these values is used the isolation forest algorithm, it works finding the anomalies that are far from the rest of the values. The most important parameter is \"contamination\", this last indicates a proportion to help estimating the number of outliers, it assumes values between 0.0 and 0.5, the dataset is not big, so it is set on 0.1.\n",
    "<br><br>"
   ]
  },
  {
   "cell_type": "code",
   "execution_count": 9,
   "id": "d1be1eff-099e-46c2-bd4e-74050c90af75",
   "metadata": {},
   "outputs": [
    {
     "name": "stdout",
     "output_type": "stream",
     "text": [
      "[1 1 1 ... 1 1 1]\n"
     ]
    }
   ],
   "source": [
    "## isolation forest to detect outliers\n",
    "\n",
    "iso = IsolationForest(n_estimators = 100 , contamination = 0.1).fit_predict(X_train)\n",
    "print(iso)"
   ]
  },
  {
   "cell_type": "code",
   "execution_count": 10,
   "id": "e651e3b3-000e-46f4-805a-01b1ecebf2a6",
   "metadata": {},
   "outputs": [
    {
     "name": "stdout",
     "output_type": "stream",
     "text": [
      "percentage of outliers: 12.565905\n"
     ]
    }
   ],
   "source": [
    "## percentage of outliers\n",
    "\n",
    "print(\"percentage of outliers: %f\" % (np.count_nonzero(iso == -1)/np.sum(iso) * 100))"
   ]
  },
  {
   "cell_type": "code",
   "execution_count": 11,
   "id": "51a43c90-1b22-4be5-9c59-f73a1178ae4f",
   "metadata": {},
   "outputs": [
    {
     "name": "stdout",
     "output_type": "stream",
     "text": [
      "(1281, 21)\n",
      "(1281,)\n"
     ]
    }
   ],
   "source": [
    "## deleting -1 values (outliers)\n",
    "\n",
    "mask = iso != -1\n",
    "X_train_iso , y_train_iso = X_train[mask] , y_train[mask]\n",
    "\n",
    "## converting to dataframe\n",
    "\n",
    "df = pd.DataFrame(data = y_train_iso)\n",
    "\n",
    "## shapes\n",
    "\n",
    "print(X_train_iso.shape)\n",
    "print(y_train_iso.shape)"
   ]
  },
  {
   "cell_type": "markdown",
   "id": "48ec8271-7494-4874-9784-880d0b7a170b",
   "metadata": {},
   "source": [
    "<br>\n",
    "This method has a problem, by looking at the following graph it can be noticed that the high-risk class is roughly an half of the original, probably this method treated the values related to this class like anomalies.\n",
    "<br><br>"
   ]
  },
  {
   "cell_type": "code",
   "execution_count": 12,
   "id": "ad365af9-229d-4d54-bda0-04eb18bbe02c",
   "metadata": {},
   "outputs": [
    {
     "name": "stdout",
     "output_type": "stream",
     "text": [
      "high risk class percentage: 0.049961\n"
     ]
    },
    {
     "data": {
      "image/png": "[encoded data removed]",
      "text/plain": [
       "<Figure size 1080x432 with 1 Axes>"
      ]
     },
     "metadata": {
      "needs_background": "light"
     },
     "output_type": "display_data"
    }
   ],
   "source": [
    "plt.figure(figsize = (15 , 6))\n",
    "\n",
    "sns.histplot(data = df , x = \"fetal_health\" , hue = \"fetal_health\" , stat = \"probability\" ,\n",
    "             palette = [\"green\" , \"orange\" , \"red\"]).set(title = \"Fetal health distribution\")\n",
    "\n",
    "## percentage of high risk class\n",
    "\n",
    "percentage(df = df)"
   ]
  },
  {
   "cell_type": "markdown",
   "id": "a316dcb6-3d6f-44f0-97e2-1c2b98115f29",
   "metadata": {},
   "source": [
    "<br>\n",
    "Let's try with another method, the \"local outlier factor\" that compares a data point to its neighbors.\n",
    "<br><br>"
   ]
  },
  {
   "cell_type": "code",
   "execution_count": 13,
   "id": "3a97f74f-b964-483b-9609-3e1b541f7dc7",
   "metadata": {},
   "outputs": [
    {
     "name": "stdout",
     "output_type": "stream",
     "text": [
      "percentage of outliers: 2.122987\n",
      "(1395, 21)\n",
      "(1395,)\n"
     ]
    }
   ],
   "source": [
    "lof = LocalOutlierFactor()\n",
    "yhat = lof.fit_predict(X_train)\n",
    "\n",
    "# select all rows that are not outliers\n",
    "\n",
    "mask = yhat != -1\n",
    "X_train_lof , y_train_lof = X_train[mask] , y_train[mask]\n",
    "\n",
    "## convert to dataframe\n",
    "\n",
    "df = pd.DataFrame(y_train_lof)\n",
    "\n",
    "## percentage of outliers\n",
    "\n",
    "print(\"percentage of outliers: %f\" % (np.count_nonzero(yhat == -1)/np.sum(yhat) * 100))\n",
    "\n",
    "print(X_train_lof.shape)\n",
    "print(y_train_lof.shape)"
   ]
  },
  {
   "cell_type": "code",
   "execution_count": 14,
   "id": "b6cd5980-e1a8-4cde-ad40-25cb6d049864",
   "metadata": {},
   "outputs": [
    {
     "name": "stdout",
     "output_type": "stream",
     "text": [
      "high risk class percentage: 0.090323\n"
     ]
    },
    {
     "data": {
      "image/png": "[encoded data removed]",
      "text/plain": [
       "<Figure size 1080x432 with 1 Axes>"
      ]
     },
     "metadata": {
      "needs_background": "light"
     },
     "output_type": "display_data"
    }
   ],
   "source": [
    "plt.figure(figsize = (15 , 6))\n",
    "\n",
    "sns.histplot(data = df , x = \"fetal_health\" , hue = \"fetal_health\" , stat = \"probability\" ,\n",
    "             palette = [\"green\" , \"orange\" , \"red\"]).set(title = \"Fetal health distribution\")\n",
    "\n",
    "## percentage of high risk class\n",
    "\n",
    "percentage(df = df)"
   ]
  },
  {
   "cell_type": "markdown",
   "id": "fd8ba24b-23b4-4b5e-bab6-d90915b55889",
   "metadata": {},
   "source": [
    "This time the proportion remained more or less constant.<br><br>"
   ]
  },
  {
   "cell_type": "code",
   "execution_count": 15,
   "id": "50f7a2c4-034e-4ccd-895d-33c8408c6f34",
   "metadata": {},
   "outputs": [],
   "source": [
    "X_train , y_train = X_train_lof , y_train_lof"
   ]
  },
  {
   "cell_type": "markdown",
   "id": "5f08cb18-77c1-439c-9d2a-4c726711eaef",
   "metadata": {},
   "source": [
    "### 2.3 COLLINEARITY AND FEATURE SELECTION"
   ]
  },
  {
   "cell_type": "markdown",
   "id": "d12624fd-4be7-469a-b7e2-3a335d998b20",
   "metadata": {},
   "source": [
    "For a correct interpretation of the results and to have an idea of the relevance of every variable, before building the model is usually checked the correlation feature vs. feature and feature vs. target.\n",
    "let's start with a correlation matrix:\n",
    "<br><br>"
   ]
  },
  {
   "cell_type": "code",
   "execution_count": 16,
   "id": "d3a2c28c-9f4c-4a03-8c4d-2f0901f356bc",
   "metadata": {},
   "outputs": [
    {
     "data": {
      "text/plain": [
       "<AxesSubplot:>"
      ]
     },
     "execution_count": 16,
     "metadata": {},
     "output_type": "execute_result"
    },
    {
     "data": {
      "image/png": "[encoded data removed]",
      "text/plain": [
       "<Figure size 1080x720 with 2 Axes>"
      ]
     },
     "metadata": {
      "needs_background": "light"
     },
     "output_type": "display_data"
    }
   ],
   "source": [
    "matrix = fetal_health.corr().round(2)\n",
    "\n",
    "## only relevant correlations\n",
    "\n",
    "def_corr = matrix[(matrix <= - 0.5) | (matrix >= 0.5)]\n",
    "plt.figure(figsize = (15 , 10))\n",
    "sns.heatmap(data = def_corr , vmin = -1 , vmax = 1 , annot = True)"
   ]
  },
  {
   "cell_type": "markdown",
   "id": "8f3a43c2-89ed-43a0-8c85-6a6105b3cd20",
   "metadata": {},
   "source": [
    "This graph shows only the relatively strong correlations, not a single feature is strongly correlated with the target, but there are relevant relationships between the variables, so it is possible that inside the dataset there is multicollinearity. The vif (variance inflation factor) can be used to find collinear variables, it works regressing every variable against the others.\n",
    "A vif > 5 means that there is collinearity, when this happens there are two ways to proceed:\n",
    "- deleting one or more of the collinear variables.\n",
    "- creating a variable that can contain the collinear ones.\n"
   ]
  },
  {
   "cell_type": "markdown",
   "id": "582982dc-e334-40ab-8659-8ed5611c5722",
   "metadata": {},
   "source": [
    "Before this procedure is better to estimate the importance of every feature, to avoid, calculating the vif, to delete important ones.\n",
    "To do this in this analysis will be used the mutual information first and the ANOVA f-test after.\n",
    "<br><br>"
   ]
  },
  {
   "cell_type": "code",
   "execution_count": 17,
   "id": "133d6686-3a58-4f1f-98fb-14e181ff8494",
   "metadata": {},
   "outputs": [
    {
     "data": {
      "text/plain": [
       "Text(0.5, 1.0, 'FEATURE IMPORTANCE WITH MUTUAL INFORMATION')"
      ]
     },
     "execution_count": 17,
     "metadata": {},
     "output_type": "execute_result"
    },
    {
     "data": {
      "image/png": "[encoded data removed]",
      "text/plain": [
       "<Figure size 720x432 with 1 Axes>"
      ]
     },
     "metadata": {
      "needs_background": "light"
     },
     "output_type": "display_data"
    }
   ],
   "source": [
    "## mutual information\n",
    "\n",
    "fs = SelectKBest(score_func = mutual_info_classif , k = 'all')\n",
    "\n",
    "# learning relationship from training data\n",
    "\n",
    "fs.fit(X_train, y_train)\n",
    "\n",
    "## converting to series\n",
    "\n",
    "mutual_info = pd.Series(fs.scores_)\n",
    "\n",
    "## assigning column names\n",
    "\n",
    "mutual_info.index = X_train.columns\n",
    "\n",
    "## horizontal barplot in descending order\n",
    "\n",
    "mutual_info.sort_values().plot.barh(figsize = (10, 6)).set_title(\"FEATURE IMPORTANCE WITH MUTUAL INFORMATION\")\n"
   ]
  },
  {
   "cell_type": "markdown",
   "id": "7d06db52-b9a0-465a-8cd1-747537bbdf6f",
   "metadata": {},
   "source": [
    "<br>\n",
    "Let's try with the other method:\n",
    "<br><br>"
   ]
  },
  {
   "cell_type": "code",
   "execution_count": 18,
   "id": "dc343329-3c87-41e9-9835-b77d09b73504",
   "metadata": {},
   "outputs": [
    {
     "data": {
      "text/plain": [
       "Text(0.5, 1.0, 'FEATURE IMPORTANCE WITH ANOVA F-TEST')"
      ]
     },
     "execution_count": 18,
     "metadata": {},
     "output_type": "execute_result"
    },
    {
     "data": {
      "image/png": "[encoded data removed]",
      "text/plain": [
       "<Figure size 720x432 with 1 Axes>"
      ]
     },
     "metadata": {
      "needs_background": "light"
     },
     "output_type": "display_data"
    }
   ],
   "source": [
    "## anova f-test\n",
    "\n",
    "fs = SelectKBest(score_func = f_classif, k='all')\n",
    "\n",
    "# learning relationship from training data\n",
    "\n",
    "fs.fit(X_train, y_train)\n",
    "\n",
    "## converting to series\n",
    "\n",
    "fs = pd.Series(fs.scores_)\n",
    "\n",
    "## assigning column names\n",
    "\n",
    "fs.index = X_train.columns\n",
    "\n",
    "## horizontal barplot in descending order\n",
    "\n",
    "fs.sort_values().plot.barh(figsize = (10 , 6)).set_title(\"FEATURE IMPORTANCE WITH ANOVA F-TEST\")"
   ]
  },
  {
   "cell_type": "markdown",
   "id": "61270543-30d0-4dd3-9b3b-a2e449b9ab4c",
   "metadata": {},
   "source": [
    "<br>\n",
    "While the anova f-test is severe to classify the features, the mutual information has a more homogeneous aspect. Let's select the best 4 features according to anova f-test, the datasets containing them will be used later:\n",
    "<br><br>"
   ]
  },
  {
   "cell_type": "code",
   "execution_count": 19,
   "id": "ab0454ae-8e83-42a0-8285-0d3836e42cdc",
   "metadata": {},
   "outputs": [],
   "source": [
    "## selecting the best 4 features\n",
    "\n",
    "X_train_best = X_train.loc[: , [\"histogram_mean\" , \"abnormal_short_term_variability\" ,\n",
    "                                \"percentage_of_time_with_abnormal_long_term_variability\" , \n",
    "                               \"prolongued_decelerations\"]]\n",
    "\n",
    "X_test_best = X_test.loc[: , [\"histogram_mean\" , \"abnormal_short_term_variability\" ,\n",
    "                                \"percentage_of_time_with_abnormal_long_term_variability\" , \n",
    "                               \"prolongued_decelerations\"]]"
   ]
  },
  {
   "cell_type": "markdown",
   "id": "b36d4c3c-17e3-4d6f-8a1f-9b41a40c4116",
   "metadata": {},
   "source": [
    "<br>\n",
    "Let's proceed with the vif:\n",
    "<br><br>"
   ]
  },
  {
   "cell_type": "code",
   "execution_count": 20,
   "id": "0a90de7a-c5fd-4d05-b280-4da8e0760f75",
   "metadata": {},
   "outputs": [
    {
     "data": {
      "text/html": [
       "<div>\n",
       "<style scoped>\n",
       "    .dataframe tbody tr th:only-of-type {\n",
       "        vertical-align: middle;\n",
       "    }\n",
       "\n",
       "    .dataframe tbody tr th {\n",
       "        vertical-align: top;\n",
       "    }\n",
       "\n",
       "    .dataframe thead th {\n",
       "        text-align: right;\n",
       "    }\n",
       "</style>\n",
       "<table border=\"1\" class=\"dataframe\">\n",
       "  <thead>\n",
       "    <tr style=\"text-align: right;\">\n",
       "      <th></th>\n",
       "      <th>vif</th>\n",
       "    </tr>\n",
       "  </thead>\n",
       "  <tbody>\n",
       "    <tr>\n",
       "      <th>abnormal_short_term_variability</th>\n",
       "      <td>1.928774</td>\n",
       "    </tr>\n",
       "    <tr>\n",
       "      <th>accelerations</th>\n",
       "      <td>2.820396</td>\n",
       "    </tr>\n",
       "    <tr>\n",
       "      <th>baseline value</th>\n",
       "      <td>6.770241</td>\n",
       "    </tr>\n",
       "    <tr>\n",
       "      <th>fetal_movement</th>\n",
       "      <td>1.161656</td>\n",
       "    </tr>\n",
       "    <tr>\n",
       "      <th>histogram_max</th>\n",
       "      <td>inf</td>\n",
       "    </tr>\n",
       "    <tr>\n",
       "      <th>histogram_mean</th>\n",
       "      <td>25.813595</td>\n",
       "    </tr>\n",
       "    <tr>\n",
       "      <th>histogram_median</th>\n",
       "      <td>34.280927</td>\n",
       "    </tr>\n",
       "    <tr>\n",
       "      <th>histogram_min</th>\n",
       "      <td>inf</td>\n",
       "    </tr>\n",
       "    <tr>\n",
       "      <th>histogram_mode</th>\n",
       "      <td>12.636712</td>\n",
       "    </tr>\n",
       "    <tr>\n",
       "      <th>histogram_number_of_peaks</th>\n",
       "      <td>2.429861</td>\n",
       "    </tr>\n",
       "    <tr>\n",
       "      <th>histogram_number_of_zeroes</th>\n",
       "      <td>1.169955</td>\n",
       "    </tr>\n",
       "    <tr>\n",
       "      <th>histogram_tendency</th>\n",
       "      <td>2.840963</td>\n",
       "    </tr>\n",
       "    <tr>\n",
       "      <th>histogram_variance</th>\n",
       "      <td>2.952375</td>\n",
       "    </tr>\n",
       "    <tr>\n",
       "      <th>histogram_width</th>\n",
       "      <td>inf</td>\n",
       "    </tr>\n",
       "    <tr>\n",
       "      <th>light_decelerations</th>\n",
       "      <td>3.451648</td>\n",
       "    </tr>\n",
       "    <tr>\n",
       "      <th>mean_value_of_long_term_variability</th>\n",
       "      <td>2.089658</td>\n",
       "    </tr>\n",
       "    <tr>\n",
       "      <th>mean_value_of_short_term_variability</th>\n",
       "      <td>3.114104</td>\n",
       "    </tr>\n",
       "    <tr>\n",
       "      <th>percentage_of_time_with_abnormal_long_term_variability</th>\n",
       "      <td>1.846602</td>\n",
       "    </tr>\n",
       "    <tr>\n",
       "      <th>prolongued_decelerations</th>\n",
       "      <td>3.079561</td>\n",
       "    </tr>\n",
       "    <tr>\n",
       "      <th>severe_decelerations</th>\n",
       "      <td>1.260659</td>\n",
       "    </tr>\n",
       "    <tr>\n",
       "      <th>uterine_contractions</th>\n",
       "      <td>1.284062</td>\n",
       "    </tr>\n",
       "  </tbody>\n",
       "</table>\n",
       "</div>"
      ],
      "text/plain": [
       "                                                          vif\n",
       "abnormal_short_term_variability                      1.928774\n",
       "accelerations                                        2.820396\n",
       "baseline value                                       6.770241\n",
       "fetal_movement                                       1.161656\n",
       "histogram_max                                             inf\n",
       "histogram_mean                                      25.813595\n",
       "histogram_median                                    34.280927\n",
       "histogram_min                                             inf\n",
       "histogram_mode                                      12.636712\n",
       "histogram_number_of_peaks                            2.429861\n",
       "histogram_number_of_zeroes                           1.169955\n",
       "histogram_tendency                                   2.840963\n",
       "histogram_variance                                   2.952375\n",
       "histogram_width                                           inf\n",
       "light_decelerations                                  3.451648\n",
       "mean_value_of_long_term_variability                  2.089658\n",
       "mean_value_of_short_term_variability                 3.114104\n",
       "percentage_of_time_with_abnormal_long_term_vari...   1.846602\n",
       "prolongued_decelerations                             3.079561\n",
       "severe_decelerations                                 1.260659\n",
       "uterine_contractions                                 1.284062"
      ]
     },
     "execution_count": 20,
     "metadata": {},
     "output_type": "execute_result"
    }
   ],
   "source": [
    "## some column return an infinite vif so it's better to ignore the warning\n",
    "\n",
    "warnings.filterwarnings('ignore')\n",
    "\n",
    "def vif_calculation(df , features):\n",
    "    \n",
    "    vif , tolerance = {} , {}\n",
    "    \n",
    "    for feature in features:\n",
    "                \n",
    "        ## list of all the features to regress against\n",
    "        \n",
    "        X = [f for f in features if f != feature]\n",
    "        \n",
    "        ## dividing the feature from all the others\n",
    "        \n",
    "        X , y = df[X] , df[feature]\n",
    "        \n",
    "        ## fitting the regression and extracting r-squared\n",
    "        \n",
    "        r2 = LinearRegression().fit(X , y).score(X , y)\n",
    "        \n",
    "        ## calculating vif\n",
    "        \n",
    "        tolerance[feature] = 1 - r2\n",
    "        vif[feature] = 1 / (tolerance[feature])\n",
    "        \n",
    "    return(pd.DataFrame({\"vif\" : vif}))\n",
    "\n",
    "vif_calculation(df = X_train , features = [column for column in  X_train])"
   ]
  },
  {
   "cell_type": "markdown",
   "id": "1b5f8d07-f805-4b8c-a00b-5383e730443a",
   "metadata": {},
   "source": [
    "<br>\n",
    "The first thing to notice is that some variables return a vif = infinite, that's because they are perfectly related to each other, in fact the histogram width contains the range represented by histogram min and max, so this two can be deleted.\n",
    "<br>\n",
    "histogram median, mean and mode are related to each other and with \"baseline value\", but not all of them can be deleted, they could be very useful in the prediction, so let's mantain the mean and delete the number of peaks and zeroes of histogram, they are the less important ones according to both anova f-test and the mutual information.\n",
    "<br><br>"
   ]
  },
  {
   "cell_type": "code",
   "execution_count": 21,
   "id": "f0f5c1f3-ce8a-4a10-a4b6-88964f5b0523",
   "metadata": {},
   "outputs": [
    {
     "data": {
      "text/html": [
       "<div>\n",
       "<style scoped>\n",
       "    .dataframe tbody tr th:only-of-type {\n",
       "        vertical-align: middle;\n",
       "    }\n",
       "\n",
       "    .dataframe tbody tr th {\n",
       "        vertical-align: top;\n",
       "    }\n",
       "\n",
       "    .dataframe thead th {\n",
       "        text-align: right;\n",
       "    }\n",
       "</style>\n",
       "<table border=\"1\" class=\"dataframe\">\n",
       "  <thead>\n",
       "    <tr style=\"text-align: right;\">\n",
       "      <th></th>\n",
       "      <th>vif</th>\n",
       "    </tr>\n",
       "  </thead>\n",
       "  <tbody>\n",
       "    <tr>\n",
       "      <th>abnormal_short_term_variability</th>\n",
       "      <td>1.835893</td>\n",
       "    </tr>\n",
       "    <tr>\n",
       "      <th>accelerations</th>\n",
       "      <td>2.759813</td>\n",
       "    </tr>\n",
       "    <tr>\n",
       "      <th>baseline value</th>\n",
       "      <td>5.982364</td>\n",
       "    </tr>\n",
       "    <tr>\n",
       "      <th>fetal_movement</th>\n",
       "      <td>1.148755</td>\n",
       "    </tr>\n",
       "    <tr>\n",
       "      <th>histogram_mean</th>\n",
       "      <td>10.621487</td>\n",
       "    </tr>\n",
       "    <tr>\n",
       "      <th>histogram_tendency</th>\n",
       "      <td>1.333338</td>\n",
       "    </tr>\n",
       "    <tr>\n",
       "      <th>histogram_variance</th>\n",
       "      <td>2.883125</td>\n",
       "    </tr>\n",
       "    <tr>\n",
       "      <th>histogram_width</th>\n",
       "      <td>3.175457</td>\n",
       "    </tr>\n",
       "    <tr>\n",
       "      <th>light_decelerations</th>\n",
       "      <td>3.413368</td>\n",
       "    </tr>\n",
       "    <tr>\n",
       "      <th>mean_value_of_long_term_variability</th>\n",
       "      <td>1.979654</td>\n",
       "    </tr>\n",
       "    <tr>\n",
       "      <th>mean_value_of_short_term_variability</th>\n",
       "      <td>2.946521</td>\n",
       "    </tr>\n",
       "    <tr>\n",
       "      <th>percentage_of_time_with_abnormal_long_term_variability</th>\n",
       "      <td>1.828437</td>\n",
       "    </tr>\n",
       "    <tr>\n",
       "      <th>prolongued_decelerations</th>\n",
       "      <td>2.953832</td>\n",
       "    </tr>\n",
       "    <tr>\n",
       "      <th>severe_decelerations</th>\n",
       "      <td>1.149784</td>\n",
       "    </tr>\n",
       "    <tr>\n",
       "      <th>uterine_contractions</th>\n",
       "      <td>1.232475</td>\n",
       "    </tr>\n",
       "  </tbody>\n",
       "</table>\n",
       "</div>"
      ],
      "text/plain": [
       "                                                          vif\n",
       "abnormal_short_term_variability                      1.835893\n",
       "accelerations                                        2.759813\n",
       "baseline value                                       5.982364\n",
       "fetal_movement                                       1.148755\n",
       "histogram_mean                                      10.621487\n",
       "histogram_tendency                                   1.333338\n",
       "histogram_variance                                   2.883125\n",
       "histogram_width                                      3.175457\n",
       "light_decelerations                                  3.413368\n",
       "mean_value_of_long_term_variability                  1.979654\n",
       "mean_value_of_short_term_variability                 2.946521\n",
       "percentage_of_time_with_abnormal_long_term_vari...   1.828437\n",
       "prolongued_decelerations                             2.953832\n",
       "severe_decelerations                                 1.149784\n",
       "uterine_contractions                                 1.232475"
      ]
     },
     "execution_count": 21,
     "metadata": {},
     "output_type": "execute_result"
    }
   ],
   "source": [
    "useless = [\"histogram_min\" , \"histogram_max\" , \"histogram_mode\" , \"histogram_median\" ,\n",
    "           \"histogram_number_of_peaks\" , \"histogram_number_of_zeroes\"]\n",
    "vif_calculation(df = X_train , features = [column for column in X_train if column not in useless])"
   ]
  },
  {
   "cell_type": "code",
   "execution_count": 22,
   "id": "79f22387-3ad3-43c6-a57a-5b71ba035ef0",
   "metadata": {},
   "outputs": [],
   "source": [
    "X_train.drop(columns = useless , inplace = True)\n",
    "X_test.drop(columns = useless , inplace = True)"
   ]
  },
  {
   "cell_type": "markdown",
   "id": "9a16ae20-a6b2-40e3-b76f-7bb35147165f",
   "metadata": {},
   "source": [
    "### 2.4 STANDARDIZATION"
   ]
  },
  {
   "cell_type": "markdown",
   "id": "fad31ea7-76aa-4869-ad7f-013fc3236d17",
   "metadata": {},
   "source": [
    "Now the features can be standardized, they will have the same standard deviation, this process is important: the variables have different units of measure, this can create distortions during model training.\n",
    "the standardization of the training and test sets must be done separately to avoid data leakage.\n",
    "<br><br>"
   ]
  },
  {
   "cell_type": "code",
   "execution_count": 23,
   "id": "a05d974b-4487-4bf9-bd94-dc9434b61891",
   "metadata": {},
   "outputs": [],
   "source": [
    "scaler = StandardScaler()\n",
    "X_train = scaler.fit_transform(X_train)\n",
    "X_test = scaler.fit_transform(X_test)\n",
    "X_train_best = scaler.fit_transform(X_train_best)\n",
    "X_test_best = scaler.fit_transform(X_test_best)"
   ]
  },
  {
   "cell_type": "markdown",
   "id": "eed5c6c0-875c-4b68-8055-5404a322338b",
   "metadata": {},
   "source": [
    "### 2.5 METRICS"
   ]
  },
  {
   "cell_type": "markdown",
   "id": "4a8d5f76-fde5-4333-86f9-1062bc23b4c4",
   "metadata": {},
   "source": [
    "The metrics chosen to evaluate the model should consider the classes distribution ratio, so the accuracy is quite useless because, with a class that covers 80% of the total, it would ever return a score of at least 80%. For this problem will be used the following two metrics:\n",
    "- **confusion matrix:** provides insight on which classes are being predicted correctly and what errors are being made.\n",
    "- **F-measure (weighted):** help to understand how well the minority classes are predicted, it assumes values between 0 and 1.\n"
   ]
  },
  {
   "cell_type": "markdown",
   "id": "1f7f33dd-d4bd-49e9-a9f7-d91cdbcf925b",
   "metadata": {},
   "source": [
    "### 3 MODELS BUILDING"
   ]
  },
  {
   "cell_type": "markdown",
   "id": "30e836af-524d-45ab-8d33-88d7a676ad35",
   "metadata": {},
   "source": [
    "The models considered are three:\n",
    "1. Logistic regression\n",
    "2. Random forest classifier\n",
    "3. k-nearest neighbors  \n",
    "\n",
    "Let's proceed in two different ways:\n",
    "\n",
    "- All the features are considered\n",
    "- Only the best 4 features are considered\n",
    "\n",
    "In both cases the first thing to do is a spot check to select the two best performing models, this is done using the cross validation, this last allows to compare the different models, it works separating a part of the training set, called validation set, using this as a test and repeating the process n times, it is taken the best score obtained. The cv method used is the stratified k-fold, effective for unbalanced target.\n",
    "<br><br>"
   ]
  },
  {
   "cell_type": "code",
   "execution_count": 24,
   "id": "380f425f-7310-494a-91fb-f7dde158f1ea",
   "metadata": {},
   "outputs": [
    {
     "name": "stdout",
     "output_type": "stream",
     "text": [
      "LogisticRegression() f1 score: 0.897153\n",
      "selected features LogisticRegression() f1 score: 0.865771\n",
      "RandomForestClassifier() f1 score: 0.959401\n",
      "selected features RandomForestClassifier() f1 score: 0.948189\n",
      "KNeighborsClassifier() f1 score: 0.918331\n",
      "selected features KNeighborsClassifier() f1 score: 0.931653\n"
     ]
    }
   ],
   "source": [
    "## models\n",
    "\n",
    "lr = LogisticRegression()\n",
    "rf = RandomForestClassifier()\n",
    "knn = KNeighborsClassifier()\n",
    "\n",
    "models = [lr , rf , knn]\n",
    "\n",
    "## f1 scores with cv\n",
    "\n",
    "for model in models:\n",
    "    model.fit(X_train , y_train)\n",
    "    skf = StratifiedKFold(n_splits = 5)\n",
    "    print(\"%s f1 score: %f\" % (model , cross_val_score(model , X_train , y_train , scoring = \"f1_weighted\" , cv = skf  , error_score = \"raise\").max()))\n",
    "    model.fit(X_train_best , y_train)\n",
    "    print(\"selected features %s f1 score: %f\" % (model , cross_val_score(model , X_train_best , y_train , scoring = \"f1_weighted\" , cv = skf  , error_score = \"raise\").max()))\n",
    "\n"
   ]
  },
  {
   "cell_type": "markdown",
   "id": "b4b9faf2-c878-446b-9a4a-9433988b40d8",
   "metadata": {},
   "source": [
    "<br>\n",
    "The two best models are random forest and k-nearest neighbors. Interesting is the fact that with knn the feature selection improved the result, maybe due to the reduction of overfitting.\n",
    "<br><br>"
   ]
  },
  {
   "cell_type": "markdown",
   "id": "89d4de7f-1c47-4072-ae52-757997c4d043",
   "metadata": {},
   "source": [
    "### 3.1 HYPERPARAMETERS TUNING"
   ]
  },
  {
   "cell_type": "markdown",
   "id": "efbea4f6-c23b-46f0-a445-08e3b1b7d36e",
   "metadata": {},
   "source": [
    "Next step is to choose the best hyperparameter values, this time the cross validation works returning the scores of the models using different hyperparameters in a range. The method used is GridSearch with built in cross-validation, it works using the specified hyperparameter values, looking through all the combinations for the best performance. The hperparameters considered are the maximum depth of trees in random forest and the number of neighbors in knn.\n",
    "<br><br>"
   ]
  },
  {
   "cell_type": "code",
   "execution_count": 25,
   "id": "f01919ab-ca00-4ded-a9ab-e0ec9c1dde7e",
   "metadata": {},
   "outputs": [
    {
     "name": "stdout",
     "output_type": "stream",
     "text": [
      "the best max depth is: {'max_depth': 27}\n",
      "the best score is: 0.937566\n"
     ]
    }
   ],
   "source": [
    "## gridsearchcv random forest\n",
    "\n",
    "rf_params = {\"max_depth\" : np.arange(1 , 32)}\n",
    "gdrf = GridSearchCV(rf , rf_params , scoring = \"f1_weighted\" , cv = skf)\n",
    "gdrf.fit(X_train , y_train)\n",
    "\n",
    "print(\"the best max depth is: %s\" % gdrf.best_params_)\n",
    "print(\"the best score is: %f\" % gdrf.best_score_)\n",
    "\n",
    "## extracting the best value\n",
    "\n",
    "for key , value in gdrf.best_params_.items():\n",
    "    best_depth = value"
   ]
  },
  {
   "cell_type": "code",
   "execution_count": 26,
   "id": "49f6ba5d-23cb-4d1b-b60a-150056d897db",
   "metadata": {},
   "outputs": [
    {
     "name": "stdout",
     "output_type": "stream",
     "text": [
      "the best max depth is: {'max_depth': 7}\n",
      "the best score is: 0.919041\n"
     ]
    }
   ],
   "source": [
    "## with selected features\n",
    "\n",
    "gdrf.fit(X_train_best , y_train)\n",
    "\n",
    "print(\"the best max depth is: %s\" % gdrf.best_params_)\n",
    "print(\"the best score is: %f\" % gdrf.best_score_)"
   ]
  },
  {
   "cell_type": "code",
   "execution_count": 27,
   "id": "a6f1a8bd-fda4-49fc-81dd-6163f66dce75",
   "metadata": {},
   "outputs": [
    {
     "name": "stdout",
     "output_type": "stream",
     "text": [
      "the best number of neighbors is: {'n_neighbors': 3}\n",
      "the best score is: 0.898591\n"
     ]
    }
   ],
   "source": [
    "## gridsearchcv knn\n",
    "\n",
    "knn_params = {\"n_neighbors\" : np.arange(1 , 10)}\n",
    "gdknn = GridSearchCV(knn , knn_params , scoring = \"f1_weighted\" , cv = skf)\n",
    "gdknn.fit(X_train , y_train)\n",
    "\n",
    "print(\"the best number of neighbors is: %s\" % gdknn.best_params_)\n",
    "print(\"the best score is: %f\" % gdknn.best_score_)"
   ]
  },
  {
   "cell_type": "code",
   "execution_count": 28,
   "id": "6bab84ab-1bd0-42bf-9bdf-37ed3af8fd1f",
   "metadata": {},
   "outputs": [
    {
     "name": "stdout",
     "output_type": "stream",
     "text": [
      "the best number of neighbors is: {'n_neighbors': 5}\n",
      "the best score is: 0.905033\n"
     ]
    }
   ],
   "source": [
    "## with selected features\n",
    "\n",
    "gdknn.fit(X_train_best , y_train)\n",
    "\n",
    "print(\"the best number of neighbors is: %s\" % gdknn.best_params_)\n",
    "print(\"the best score is: %f\" % gdknn.best_score_)\n",
    "\n",
    "for key , value in gdknn.best_params_.items():\n",
    "    best_k = value"
   ]
  },
  {
   "cell_type": "markdown",
   "id": "f80317fd-88ca-42ec-831d-252c000c610c",
   "metadata": {},
   "source": [
    "### 3.2 PREDICTION"
   ]
  },
  {
   "cell_type": "markdown",
   "id": "2b6a2639-88f9-460a-9bac-bd2343190711",
   "metadata": {},
   "source": [
    "\n",
    "The last step is to use the models using the test set:\n",
    "<br><br>"
   ]
  },
  {
   "cell_type": "code",
   "execution_count": 29,
   "id": "3aaf4f8f-b283-4367-80c8-05940c493978",
   "metadata": {},
   "outputs": [
    {
     "data": {
      "text/plain": [
       "0.9265263668742434"
      ]
     },
     "execution_count": 29,
     "metadata": {},
     "output_type": "execute_result"
    }
   ],
   "source": [
    "## random forest prediction with all features\n",
    "\n",
    "rf = RandomForestClassifier(max_depth = best_depth)\n",
    "rf.fit(X_train , y_train)\n",
    "prediction = rf.predict(X_test)\n",
    "\n",
    "f1_score(y_test , prediction , average = \"weighted\")"
   ]
  },
  {
   "cell_type": "code",
   "execution_count": 30,
   "id": "efc4a162-5d45-4f2c-88c8-5647ec16b8d3",
   "metadata": {},
   "outputs": [
    {
     "data": {
      "text/plain": [
       "<sklearn.metrics._plot.confusion_matrix.ConfusionMatrixDisplay at 0x22e659ae910>"
      ]
     },
     "execution_count": 30,
     "metadata": {},
     "output_type": "execute_result"
    },
    {
     "data": {
      "image/png": "[encoded data removed]",
      "text/plain": [
       "<Figure size 432x288 with 2 Axes>"
      ]
     },
     "metadata": {
      "needs_background": "light"
     },
     "output_type": "display_data"
    }
   ],
   "source": [
    "cm = confusion_matrix(y_test , prediction)\n",
    "display = ConfusionMatrixDisplay(confusion_matrix = cm , display_labels = rf.classes_)\n",
    "display.plot()"
   ]
  },
  {
   "cell_type": "markdown",
   "id": "ce20bb8a-a12f-4333-9aae-12194861106f",
   "metadata": {},
   "source": [
    "<br>\n",
    "The prediction registered a score of 92.5%. The graph above is a confusion matrix, it is a little difficult to intepret, the important thing to know is that on 45 high risk fetuses, 37 were classified well, 5 in the medium and 3 in the low risk classes (82% classified well). Despite the unbalance problem, the result is discrete.\n",
    "<br><br>"
   ]
  },
  {
   "cell_type": "code",
   "execution_count": 31,
   "id": "981395c3-3b03-4d91-8e5b-1b4ad9684268",
   "metadata": {},
   "outputs": [
    {
     "data": {
      "text/plain": [
       "0.8993326171608667"
      ]
     },
     "execution_count": 31,
     "metadata": {},
     "output_type": "execute_result"
    }
   ],
   "source": [
    "## knn prediction with selected features\n",
    "\n",
    "knn = KNeighborsClassifier(n_neighbors = best_k)\n",
    "knn.fit(X_train_best , y_train)\n",
    "prediction = knn.predict(X_test_best)\n",
    "\n",
    "f1_score(y_test , prediction , average = \"weighted\")"
   ]
  },
  {
   "cell_type": "code",
   "execution_count": 32,
   "id": "64142af5-136f-44f1-ad93-caa2274a39bf",
   "metadata": {},
   "outputs": [
    {
     "data": {
      "text/plain": [
       "<sklearn.metrics._plot.confusion_matrix.ConfusionMatrixDisplay at 0x22e65d9d850>"
      ]
     },
     "execution_count": 32,
     "metadata": {},
     "output_type": "execute_result"
    },
    {
     "data": {
      "image/png": "[encoded data removed]",
      "text/plain": [
       "<Figure size 432x288 with 2 Axes>"
      ]
     },
     "metadata": {
      "needs_background": "light"
     },
     "output_type": "display_data"
    }
   ],
   "source": [
    "cm = confusion_matrix(y_test , prediction)\n",
    "display = ConfusionMatrixDisplay(confusion_matrix = cm , display_labels = rf.classes_)\n",
    "display.plot()"
   ]
  },
  {
   "cell_type": "markdown",
   "id": "064968cc-eec8-4c1a-8e34-28f8e9e7c28c",
   "metadata": {},
   "source": [
    "<br>\n",
    "With knn the result is a little worse, 37 high risk fetuses were classified well, but 2 in the medium and 6 in the low risk classes, the difference is that in the previous prediction the largest part of misclassified fetuses were in the medium category, so closer to the high risk one.\n",
    "<br><br>"
   ]
  },
  {
   "cell_type": "markdown",
   "id": "12985868-1b2d-44c0-8b68-2c15fb95bd20",
   "metadata": {},
   "source": [
    "### 4 CONCLUSION"
   ]
  },
  {
   "cell_type": "markdown",
   "id": "9a4e55d2-196a-4764-a532-85cc71d8e85b",
   "metadata": {},
   "source": [
    "The results are overall good. Being the dataset unbalanced, the largest class is predicted better, but the other classes registered a good score.\n",
    "the best model is random forest, it performs better with all the features (except the collinear ones), anyway its score is not so much better than knn, this last works better with selected features.  \n",
    "This analysis can be summarized in a few unordered steps:\n",
    "1. Prepare the data (exploration, cleaning).\n",
    "2. Transform the dataset (outliers removal, collinearity detection, standardization).\n",
    "3. Select the features.\n",
    "4. Choose the metrics.\n",
    "5. Build, evaluate and compare the models."
   ]
  }
 ],
 "metadata": {
  "kernelspec": {
   "display_name": "Python 3",
   "language": "python",
   "name": "python3"
  },
  "language_info": {
   "codemirror_mode": {
    "name": "ipython",
    "version": 3
   },
   "file_extension": ".py",
   "mimetype": "text/x-python",
   "name": "python",
   "nbconvert_exporter": "python",
   "pygments_lexer": "ipython3",
   "version": "3.8.8"
  }
 },
 "nbformat": 4,
 "nbformat_minor": 5
}
